{
 "cells": [
  {
   "cell_type": "code",
   "execution_count": 36,
   "id": "2c5f5e9b-3bfb-49e2-8645-fed5acb2edb0",
   "metadata": {},
   "outputs": [],
   "source": [
    "#Q1\n",
    "l = [1,2,3,4,[44,55,66,True],False,(34,56,78,89,34),{1,2,3,3,2,1},{1:34,\"key2\":[55,67,78,89],4:(45,22,61,34)},[56,\"data science\"],\"Machine Learning\"]\n",
    "\n",
    "def num_test(a):\n",
    "    '''this is  func to extract num data from list'''\n",
    "    l1=[]\n",
    "    for i in a:\n",
    "        if type(i) == list or type(i)== tuple or type(i)== set:\n",
    "            for j in i:\n",
    "                if type(j)== int:\n",
    "                    l1.append(j)  \n",
    "        elif type(i)==dict:\n",
    "            list(i.items())\n",
    "            for j in i.items():\n",
    "                if type(j)==tuple:\n",
    "                    for k in j :\n",
    "                        if type(k)==int:\n",
    "                            l1.append(k)\n",
    "                        elif type(k)==list:\n",
    "                            for m in k:\n",
    "                                if type(m)==int:\n",
    "                                    l1.append(m)\n",
    "                        elif type(k)==tuple:\n",
    "                            for m in k :\n",
    "                                if type(m)==int:\n",
    "                                    l1.append(m)\n",
    "                \n",
    "        else:\n",
    "            if type(i) == int :\n",
    "                l1.append(i)\n",
    "    return l1"
   ]
  },
  {
   "cell_type": "code",
   "execution_count": 37,
   "id": "a5e5991c-54eb-49c7-9d82-ae7a51353621",
   "metadata": {},
   "outputs": [
    {
     "data": {
      "text/plain": [
       "[1,\n",
       " 2,\n",
       " 3,\n",
       " 4,\n",
       " 44,\n",
       " 55,\n",
       " 66,\n",
       " 34,\n",
       " 56,\n",
       " 78,\n",
       " 89,\n",
       " 34,\n",
       " 1,\n",
       " 2,\n",
       " 3,\n",
       " 1,\n",
       " 34,\n",
       " 55,\n",
       " 67,\n",
       " 78,\n",
       " 89,\n",
       " 4,\n",
       " 45,\n",
       " 22,\n",
       " 61,\n",
       " 34,\n",
       " 56]"
      ]
     },
     "execution_count": 37,
     "metadata": {},
     "output_type": "execute_result"
    }
   ],
   "source": [
    "num_test(l)"
   ]
  },
  {
   "cell_type": "code",
   "execution_count": 45,
   "id": "a061a1aa-034f-473f-9a81-e075b3824012",
   "metadata": {},
   "outputs": [],
   "source": [
    "#Q2\n",
    "a = \"I want to become a Data Scientst\""
   ]
  },
  {
   "cell_type": "code",
   "execution_count": 46,
   "id": "b1f1c84c-3f64-4672-8864-ee8dafc3c7da",
   "metadata": {},
   "outputs": [],
   "source": [
    "b = a.lower()"
   ]
  },
  {
   "cell_type": "code",
   "execution_count": 47,
   "id": "6b926773-b689-431a-81d0-d491b2bb7928",
   "metadata": {},
   "outputs": [
    {
     "data": {
      "text/plain": [
       "'i want to become a data scientst'"
      ]
     },
     "execution_count": 47,
     "metadata": {},
     "output_type": "execute_result"
    }
   ],
   "source": [
    "b"
   ]
  },
  {
   "cell_type": "code",
   "execution_count": 48,
   "id": "624657d4-a57a-451e-87e0-8d7a84e0813c",
   "metadata": {},
   "outputs": [],
   "source": [
    "c =b.replace(\"a\",\"z\")\n",
    "d =c.replace(\"b\",\"y\")\n",
    "e =d.replace(\"c\",\"x\")\n",
    "f =e.replace(\" \",\"$\")"
   ]
  },
  {
   "cell_type": "code",
   "execution_count": 44,
   "id": "f27b6837-6329-4530-bd9f-96ede7a6fbee",
   "metadata": {},
   "outputs": [
    {
     "data": {
      "text/plain": [
       "'i$wznt$to$yexome$z$dztz$sxientst'"
      ]
     },
     "execution_count": 44,
     "metadata": {},
     "output_type": "execute_result"
    }
   ],
   "source": [
    "f"
   ]
  },
  {
   "cell_type": "code",
   "execution_count": null,
   "id": "7245d137-7842-41db-b77e-be06a90967e5",
   "metadata": {},
   "outputs": [],
   "source": []
  }
 ],
 "metadata": {
  "kernelspec": {
   "display_name": "Python 3 (ipykernel)",
   "language": "python",
   "name": "python3"
  },
  "language_info": {
   "codemirror_mode": {
    "name": "ipython",
    "version": 3
   },
   "file_extension": ".py",
   "mimetype": "text/x-python",
   "name": "python",
   "nbconvert_exporter": "python",
   "pygments_lexer": "ipython3",
   "version": "3.10.8"
  }
 },
 "nbformat": 4,
 "nbformat_minor": 5
}
